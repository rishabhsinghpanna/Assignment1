{
 "cells": [
  {
   "cell_type": "raw",
   "id": "2fbde555-b678-4e5d-b278-64e2ca02e12e",
   "metadata": {},
   "source": [
    "Q1. Create one variable containing following type of data:\n",
    "(i) string\n",
    "(ii) list\n",
    "(iii) float\n",
    "(iv) tuple"
   ]
  },
  {
   "cell_type": "code",
   "execution_count": 1,
   "id": "8fe2f428-e09b-4bc4-b9d9-5147cc228127",
   "metadata": {},
   "outputs": [],
   "source": [
    "b=\"Rishabh\""
   ]
  },
  {
   "cell_type": "code",
   "execution_count": 2,
   "id": "ae2d4ea3-12f5-4e5f-9bbd-55bafa6e077a",
   "metadata": {},
   "outputs": [
    {
     "data": {
      "text/plain": [
       "str"
      ]
     },
     "execution_count": 2,
     "metadata": {},
     "output_type": "execute_result"
    }
   ],
   "source": [
    "type(b)"
   ]
  },
  {
   "cell_type": "code",
   "execution_count": 3,
   "id": "ed0bbc10-4dfd-4441-846e-2eadaa9d0b6a",
   "metadata": {},
   "outputs": [],
   "source": [
    "l=[34,56,\"Singh\",78.009,\"87ty\"]"
   ]
  },
  {
   "cell_type": "code",
   "execution_count": 4,
   "id": "d96effcb-fada-4a6f-b0b3-3836e395c59a",
   "metadata": {},
   "outputs": [
    {
     "data": {
      "text/plain": [
       "[34, 56, 'Singh', 78.009, '87ty']"
      ]
     },
     "execution_count": 4,
     "metadata": {},
     "output_type": "execute_result"
    }
   ],
   "source": [
    "l"
   ]
  },
  {
   "cell_type": "code",
   "execution_count": 5,
   "id": "d8d22307-4e8e-4b3d-8739-4f1f59b9832f",
   "metadata": {},
   "outputs": [
    {
     "data": {
      "text/plain": [
       "list"
      ]
     },
     "execution_count": 5,
     "metadata": {},
     "output_type": "execute_result"
    }
   ],
   "source": [
    "type(l)"
   ]
  },
  {
   "cell_type": "code",
   "execution_count": 6,
   "id": "18c1c180-c2f7-4a7b-ae8f-c4deaed8b541",
   "metadata": {},
   "outputs": [],
   "source": [
    "f = 45.0098"
   ]
  },
  {
   "cell_type": "code",
   "execution_count": 7,
   "id": "614f2f16-5a61-40d3-9784-07e426c23e63",
   "metadata": {},
   "outputs": [
    {
     "data": {
      "text/plain": [
       "45.0098"
      ]
     },
     "execution_count": 7,
     "metadata": {},
     "output_type": "execute_result"
    }
   ],
   "source": [
    "f"
   ]
  },
  {
   "cell_type": "code",
   "execution_count": 8,
   "id": "4517de7c-463e-4ab5-bc17-811b865635d0",
   "metadata": {},
   "outputs": [
    {
     "data": {
      "text/plain": [
       "float"
      ]
     },
     "execution_count": 8,
     "metadata": {},
     "output_type": "execute_result"
    }
   ],
   "source": [
    "type(f)"
   ]
  },
  {
   "cell_type": "code",
   "execution_count": 9,
   "id": "1d8a2cdf-7adc-4302-809f-0f6afc0976d2",
   "metadata": {},
   "outputs": [],
   "source": [
    "t = (34,56,\"Singh\",78.009,\"87ty\")"
   ]
  },
  {
   "cell_type": "code",
   "execution_count": 10,
   "id": "2ac062a1-e46c-4940-898d-ee029eb53551",
   "metadata": {},
   "outputs": [
    {
     "data": {
      "text/plain": [
       "(34, 56, 'Singh', 78.009, '87ty')"
      ]
     },
     "execution_count": 10,
     "metadata": {},
     "output_type": "execute_result"
    }
   ],
   "source": [
    "t"
   ]
  },
  {
   "cell_type": "code",
   "execution_count": 11,
   "id": "be293bee-0b5d-4635-bccb-a522720235bb",
   "metadata": {},
   "outputs": [
    {
     "data": {
      "text/plain": [
       "tuple"
      ]
     },
     "execution_count": 11,
     "metadata": {},
     "output_type": "execute_result"
    }
   ],
   "source": [
    "type(t)"
   ]
  },
  {
   "cell_type": "raw",
   "id": "fa5ab3ab-ca7d-47a8-a7b9-43caf45f0b68",
   "metadata": {},
   "source": [
    "Q2. Given are some following variables containing data:\n",
    "(i) var1 = ‘ ‘\n",
    "(ii) var2 = ‘[ DS , ML , Python]’\n",
    "(iii) var3 = [ ‘DS’ , ’ML’ , ‘Python’ ]\n",
    "(iv) var4 = 1.\n",
    "What will be the data type of the above given variable."
   ]
  },
  {
   "cell_type": "code",
   "execution_count": 14,
   "id": "89f41813-1664-403c-8037-faec2694d1e4",
   "metadata": {},
   "outputs": [],
   "source": [
    "var1 = ' '"
   ]
  },
  {
   "cell_type": "code",
   "execution_count": 15,
   "id": "00ba28b2-c039-40fe-8144-23fd19ab117b",
   "metadata": {},
   "outputs": [
    {
     "data": {
      "text/plain": [
       "str"
      ]
     },
     "execution_count": 15,
     "metadata": {},
     "output_type": "execute_result"
    }
   ],
   "source": [
    "type(var1)"
   ]
  },
  {
   "cell_type": "code",
   "execution_count": 17,
   "id": "a9eb0c0a-4da3-411c-bb88-69e546ccc4f4",
   "metadata": {},
   "outputs": [],
   "source": [
    "var2 = '[ DS , ML , Python]'"
   ]
  },
  {
   "cell_type": "code",
   "execution_count": 18,
   "id": "25da8f37-acd4-4373-abc8-896bbd8b3af6",
   "metadata": {},
   "outputs": [
    {
     "data": {
      "text/plain": [
       "'[ DS , ML , Python]'"
      ]
     },
     "execution_count": 18,
     "metadata": {},
     "output_type": "execute_result"
    }
   ],
   "source": [
    "var2"
   ]
  },
  {
   "cell_type": "code",
   "execution_count": 19,
   "id": "f88598c2-d508-4e7d-a568-79c91e1db7ed",
   "metadata": {},
   "outputs": [
    {
     "data": {
      "text/plain": [
       "str"
      ]
     },
     "execution_count": 19,
     "metadata": {},
     "output_type": "execute_result"
    }
   ],
   "source": [
    "type(var2)"
   ]
  },
  {
   "cell_type": "code",
   "execution_count": 20,
   "id": "2d77a96b-eaaf-43e8-9511-4a44606e26f6",
   "metadata": {},
   "outputs": [],
   "source": [
    "var3 = [ 'DS' , 'ML' , 'Python' ]"
   ]
  },
  {
   "cell_type": "code",
   "execution_count": 21,
   "id": "53d525c7-e67e-4e6d-ade3-d63002e08585",
   "metadata": {},
   "outputs": [
    {
     "data": {
      "text/plain": [
       "['DS', 'ML', 'Python']"
      ]
     },
     "execution_count": 21,
     "metadata": {},
     "output_type": "execute_result"
    }
   ],
   "source": [
    "var3"
   ]
  },
  {
   "cell_type": "code",
   "execution_count": 22,
   "id": "9bee13f5-4ac4-4662-bbc9-2002d8159acd",
   "metadata": {},
   "outputs": [
    {
     "data": {
      "text/plain": [
       "list"
      ]
     },
     "execution_count": 22,
     "metadata": {},
     "output_type": "execute_result"
    }
   ],
   "source": [
    "type(var3)"
   ]
  },
  {
   "cell_type": "code",
   "execution_count": 23,
   "id": "34bee62d-ad07-4219-b311-2c0236d1ffeb",
   "metadata": {},
   "outputs": [],
   "source": [
    "var4 =1"
   ]
  },
  {
   "cell_type": "code",
   "execution_count": 24,
   "id": "0f9c18ff-d839-4ca1-9e8a-706df6f9ffa0",
   "metadata": {},
   "outputs": [
    {
     "data": {
      "text/plain": [
       "int"
      ]
     },
     "execution_count": 24,
     "metadata": {},
     "output_type": "execute_result"
    }
   ],
   "source": [
    "type(var4)"
   ]
  },
  {
   "cell_type": "markdown",
   "id": "bc81e3ab-cbec-4a34-9f99-363e9fd539ca",
   "metadata": {},
   "source": [
    "Q3. Explain the use of the following operators using an example:\n",
    "(i) /\n",
    "(ii) %\n",
    "(iii) //\n",
    "(iv) **"
   ]
  },
  {
   "cell_type": "raw",
   "id": "953ec0f0-e6ad-4721-8c0e-3921e0202347",
   "metadata": {},
   "source": [
    "/ is used to get divisor"
   ]
  },
  {
   "cell_type": "code",
   "execution_count": 46,
   "id": "ccd47270-1019-4ff0-91c7-cbbc2bdaa605",
   "metadata": {},
   "outputs": [
    {
     "data": {
      "text/plain": [
       "3.3333333333333335"
      ]
     },
     "execution_count": 46,
     "metadata": {},
     "output_type": "execute_result"
    }
   ],
   "source": [
    "10/3"
   ]
  },
  {
   "cell_type": "raw",
   "id": "1d174d1f-71ba-4547-b0d9-ae76fd4e7130",
   "metadata": {},
   "source": [
    " % is used to get remainder"
   ]
  },
  {
   "cell_type": "code",
   "execution_count": 47,
   "id": "3834b72c-e71d-48df-938c-8bd5e364fc7b",
   "metadata": {},
   "outputs": [
    {
     "data": {
      "text/plain": [
       "0"
      ]
     },
     "execution_count": 47,
     "metadata": {},
     "output_type": "execute_result"
    }
   ],
   "source": [
    "12%6"
   ]
  },
  {
   "cell_type": "raw",
   "id": "408c56b2-23f6-4a39-a747-6fd7211d46cb",
   "metadata": {},
   "source": [
    " //  use to perform floor division rounds the result down to the nearest whole number"
   ]
  },
  {
   "cell_type": "code",
   "execution_count": 1,
   "id": "d9193916-6fc8-4d2b-937f-cc7f2e14569a",
   "metadata": {},
   "outputs": [
    {
     "data": {
      "text/plain": [
       "4"
      ]
     },
     "execution_count": 1,
     "metadata": {},
     "output_type": "execute_result"
    }
   ],
   "source": [
    "17//4"
   ]
  },
  {
   "cell_type": "code",
   "execution_count": null,
   "id": "8f9a3aa7-a742-416b-a4b3-3c7a6901ec17",
   "metadata": {},
   "outputs": [],
   "source": [
    "** gives power"
   ]
  },
  {
   "cell_type": "code",
   "execution_count": 2,
   "id": "74916f0f-4837-4a59-9762-256c2cb6135c",
   "metadata": {},
   "outputs": [
    {
     "data": {
      "text/plain": [
       "512"
      ]
     },
     "execution_count": 2,
     "metadata": {},
     "output_type": "execute_result"
    }
   ],
   "source": [
    "8**3"
   ]
  },
  {
   "cell_type": "raw",
   "id": "82593356-f635-4bc2-ac2e-1d3de2deee0b",
   "metadata": {},
   "source": [
    "Q4. Create a list of length 10 of your choice containing multiple types of data. Using for loop print the\n",
    "element and its data type."
   ]
  },
  {
   "cell_type": "code",
   "execution_count": 25,
   "id": "bc74b144-d8fc-4fc2-82c7-47588395e6fe",
   "metadata": {},
   "outputs": [],
   "source": [
    "h = [34,56.09,'rish',True,56,908,'singh',False,'45rt',5+8j]"
   ]
  },
  {
   "cell_type": "code",
   "execution_count": 26,
   "id": "a1a7823a-acbb-44e2-95ef-155c6f7b7356",
   "metadata": {},
   "outputs": [
    {
     "data": {
      "text/plain": [
       "10"
      ]
     },
     "execution_count": 26,
     "metadata": {},
     "output_type": "execute_result"
    }
   ],
   "source": [
    "len(h)"
   ]
  },
  {
   "cell_type": "code",
   "execution_count": 27,
   "id": "eb6d442b-1c17-471b-a476-27a85cdd64fa",
   "metadata": {},
   "outputs": [
    {
     "data": {
      "text/plain": [
       "[34, 56.09, 'rish', True, 56, 908, 'singh', False, '45rt', (5+8j)]"
      ]
     },
     "execution_count": 27,
     "metadata": {},
     "output_type": "execute_result"
    }
   ],
   "source": [
    "h"
   ]
  },
  {
   "cell_type": "code",
   "execution_count": 45,
   "id": "8328dea8-d9a6-4f2c-b36f-e9e561bc3068",
   "metadata": {},
   "outputs": [
    {
     "name": "stdout",
     "output_type": "stream",
     "text": [
      "34   <class 'int'>\n",
      "56.09   <class 'float'>\n",
      "rish   <class 'str'>\n",
      "True   <class 'bool'>\n",
      "56   <class 'int'>\n",
      "908   <class 'int'>\n",
      "singh   <class 'str'>\n",
      "False   <class 'bool'>\n",
      "45rt   <class 'str'>\n",
      "(5+8j)   <class 'complex'>\n"
     ]
    }
   ],
   "source": [
    "for i in h:\n",
    "    print(i,' ',type(i))"
   ]
  },
  {
   "cell_type": "raw",
   "id": "8f81f3cc-44b2-441c-8245-e252ed41848d",
   "metadata": {},
   "source": [
    "Q5. Using a while loop, verify if the number A is purely divisible by number B and if so then how many\n",
    "times it can be divisible."
   ]
  },
  {
   "cell_type": "code",
   "execution_count": 3,
   "id": "2e47d7e4-64fb-43d6-9a3a-783a1fe8e93e",
   "metadata": {},
   "outputs": [
    {
     "name": "stdin",
     "output_type": "stream",
     "text": [
      " 48\n",
      " 6\n"
     ]
    },
    {
     "name": "stdout",
     "output_type": "stream",
     "text": [
      "1\n"
     ]
    }
   ],
   "source": [
    "A = int(input())\n",
    "B = int(input())\n",
    "count =0\n",
    "while((A>0) & (A%B==0)):\n",
    "    A=A/B\n",
    "    count = count + 1\n",
    "print(count)    \n",
    "    \n"
   ]
  },
  {
   "cell_type": "raw",
   "id": "40cb40d8-68ee-4223-b9fb-8a853a66fe75",
   "metadata": {},
   "source": [
    "Q6. Create a list containing 25 int type data. Using for loop and if-else condition print if the element is\n",
    "divisible by 3 or not."
   ]
  },
  {
   "cell_type": "code",
   "execution_count": 39,
   "id": "bf9b8005-2bd5-49fc-8a4a-b8058a518d4c",
   "metadata": {},
   "outputs": [],
   "source": [
    "lt = list(range(25))"
   ]
  },
  {
   "cell_type": "code",
   "execution_count": 40,
   "id": "c2ed7672-0f42-41ff-a082-2345735a67bd",
   "metadata": {},
   "outputs": [
    {
     "data": {
      "text/plain": [
       "[0,\n",
       " 1,\n",
       " 2,\n",
       " 3,\n",
       " 4,\n",
       " 5,\n",
       " 6,\n",
       " 7,\n",
       " 8,\n",
       " 9,\n",
       " 10,\n",
       " 11,\n",
       " 12,\n",
       " 13,\n",
       " 14,\n",
       " 15,\n",
       " 16,\n",
       " 17,\n",
       " 18,\n",
       " 19,\n",
       " 20,\n",
       " 21,\n",
       " 22,\n",
       " 23,\n",
       " 24]"
      ]
     },
     "execution_count": 40,
     "metadata": {},
     "output_type": "execute_result"
    }
   ],
   "source": [
    "lt"
   ]
  },
  {
   "cell_type": "code",
   "execution_count": 43,
   "id": "c791d596-a07d-4a9e-b517-b9e8c46af266",
   "metadata": {},
   "outputs": [
    {
     "name": "stdout",
     "output_type": "stream",
     "text": [
      "0 is divisible by 3\n",
      "1 is not divisible by 3\n",
      "2 is not divisible by 3\n",
      "3 is divisible by 3\n",
      "4 is not divisible by 3\n",
      "5 is not divisible by 3\n",
      "6 is divisible by 3\n",
      "7 is not divisible by 3\n",
      "8 is not divisible by 3\n",
      "9 is divisible by 3\n",
      "10 is not divisible by 3\n",
      "11 is not divisible by 3\n",
      "12 is divisible by 3\n",
      "13 is not divisible by 3\n",
      "14 is not divisible by 3\n",
      "15 is divisible by 3\n",
      "16 is not divisible by 3\n",
      "17 is not divisible by 3\n",
      "18 is divisible by 3\n",
      "19 is not divisible by 3\n",
      "20 is not divisible by 3\n",
      "21 is divisible by 3\n",
      "22 is not divisible by 3\n",
      "23 is not divisible by 3\n",
      "24 is divisible by 3\n"
     ]
    }
   ],
   "source": [
    "for i in lt:\n",
    "    if(i%3==0):\n",
    "        print( i ,'is divisible by 3')\n",
    "    else:\n",
    "        print(i , 'is not divisible by 3')"
   ]
  },
  {
   "cell_type": "raw",
   "id": "87d24aac-75cd-401c-b6aa-c0e0946ef7fb",
   "metadata": {},
   "source": [
    "Q7. What do you understand about mutable and immutable data types? Give examples for both showing\n",
    "this property."
   ]
  },
  {
   "cell_type": "raw",
   "id": "68a6ddd6-52d5-4a71-b8e5-d94c6a4dc69f",
   "metadata": {},
   "source": [
    "Mutables data types are those which can be modified after assigned\n",
    "Eg: list"
   ]
  },
  {
   "cell_type": "code",
   "execution_count": 4,
   "id": "918124ce-2132-4bbe-b791-ff4070ae00f7",
   "metadata": {},
   "outputs": [],
   "source": [
    "ls = [3,4,5,6]"
   ]
  },
  {
   "cell_type": "code",
   "execution_count": 9,
   "id": "99d58639-e5ad-4c9c-b407-7d1c044483c7",
   "metadata": {},
   "outputs": [
    {
     "data": {
      "text/plain": [
       "list"
      ]
     },
     "execution_count": 9,
     "metadata": {},
     "output_type": "execute_result"
    }
   ],
   "source": [
    "type(ls)"
   ]
  },
  {
   "cell_type": "code",
   "execution_count": 5,
   "id": "908064cd-b1bc-44a1-8fa1-19b0989e450d",
   "metadata": {},
   "outputs": [
    {
     "data": {
      "text/plain": [
       "[3, 4, 5, 6]"
      ]
     },
     "execution_count": 5,
     "metadata": {},
     "output_type": "execute_result"
    }
   ],
   "source": [
    "ls"
   ]
  },
  {
   "cell_type": "code",
   "execution_count": 6,
   "id": "4c3943c0-4a6d-4d9b-8344-856dd3b1bb23",
   "metadata": {},
   "outputs": [],
   "source": [
    "ls[0]='abc'"
   ]
  },
  {
   "cell_type": "code",
   "execution_count": 7,
   "id": "6fdf9dfe-97da-41a1-9dde-d316a57d205e",
   "metadata": {},
   "outputs": [
    {
     "data": {
      "text/plain": [
       "['abc', 4, 5, 6]"
      ]
     },
     "execution_count": 7,
     "metadata": {},
     "output_type": "execute_result"
    }
   ],
   "source": [
    "ls"
   ]
  },
  {
   "cell_type": "raw",
   "id": "f74f8114-74c0-444c-957f-3838852d01ce",
   "metadata": {},
   "source": [
    "Here we ca see ls is now modify we have replace the value 3 with 'abc' at 0th index"
   ]
  },
  {
   "cell_type": "raw",
   "id": "8a003dbb-36d5-4d39-8f25-13c00f2a58f1",
   "metadata": {},
   "source": [
    "Immutables data types can't be change after it assigned \n",
    "eg: tuples"
   ]
  },
  {
   "cell_type": "code",
   "execution_count": 8,
   "id": "48a9df97-aa54-417b-9557-2448af117179",
   "metadata": {},
   "outputs": [],
   "source": [
    "ts = (2,33,4,67)"
   ]
  },
  {
   "cell_type": "code",
   "execution_count": 10,
   "id": "44fa350c-bc26-4a1b-95d6-2d09a2925ec2",
   "metadata": {},
   "outputs": [
    {
     "data": {
      "text/plain": [
       "tuple"
      ]
     },
     "execution_count": 10,
     "metadata": {},
     "output_type": "execute_result"
    }
   ],
   "source": [
    "type(ts)"
   ]
  },
  {
   "cell_type": "code",
   "execution_count": 11,
   "id": "e4870ba0-32f1-4bd8-b331-1fc5087e280c",
   "metadata": {},
   "outputs": [
    {
     "ename": "TypeError",
     "evalue": "'tuple' object does not support item assignment",
     "output_type": "error",
     "traceback": [
      "\u001b[0;31m---------------------------------------------------------------------------\u001b[0m",
      "\u001b[0;31mTypeError\u001b[0m                                 Traceback (most recent call last)",
      "Cell \u001b[0;32mIn[11], line 1\u001b[0m\n\u001b[0;32m----> 1\u001b[0m \u001b[43mts\u001b[49m\u001b[43m[\u001b[49m\u001b[38;5;241;43m0\u001b[39;49m\u001b[43m]\u001b[49m\u001b[38;5;241m=\u001b[39m\u001b[38;5;124m'\u001b[39m\u001b[38;5;124macp\u001b[39m\u001b[38;5;124m'\u001b[39m\n",
      "\u001b[0;31mTypeError\u001b[0m: 'tuple' object does not support item assignment"
     ]
    }
   ],
   "source": [
    "ts[0]='acp'"
   ]
  },
  {
   "cell_type": "raw",
   "id": "94372341-f908-422e-ae13-464b1419a791",
   "metadata": {},
   "source": [
    "here it gives us error that we can't change or modify the tuple once it assigned"
   ]
  }
 ],
 "metadata": {
  "kernelspec": {
   "display_name": "Python 3 (ipykernel)",
   "language": "python",
   "name": "python3"
  },
  "language_info": {
   "codemirror_mode": {
    "name": "ipython",
    "version": 3
   },
   "file_extension": ".py",
   "mimetype": "text/x-python",
   "name": "python",
   "nbconvert_exporter": "python",
   "pygments_lexer": "ipython3",
   "version": "3.10.8"
  }
 },
 "nbformat": 4,
 "nbformat_minor": 5
}
